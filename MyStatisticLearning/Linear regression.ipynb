{
 "cells": [
  {
   "cell_type": "code",
   "execution_count": 63,
   "metadata": {},
   "outputs": [],
   "source": [
    "import pandas as pd"
   ]
  },
  {
   "cell_type": "code",
   "execution_count": 64,
   "metadata": {},
   "outputs": [],
   "source": [
    "aapl = pd.read_csv('AAPL.csv')\n",
    "goog = pd.read_csv('GOOGL.csv')"
   ]
  },
  {
   "cell_type": "code",
   "execution_count": 65,
   "metadata": {},
   "outputs": [],
   "source": [
    "try:\n",
    "    aapl = aapl.set_index('Date')\n",
    "    goog = goog.set_index('Date')\n",
    "except:\n",
    "    pass\n",
    "df = pd.concat([aapl.loc[:]['Close'], goog.loc[:]['Close']], axis=1)\n",
    "df.columns = [\"aapl\", \"googl\"]"
   ]
  },
  {
   "cell_type": "code",
   "execution_count": 67,
   "metadata": {},
   "outputs": [
    {
     "data": {
      "text/plain": [
       "276"
      ]
     },
     "execution_count": 67,
     "metadata": {},
     "output_type": "execute_result"
    }
   ],
   "source": [
    "df = df.loc[\"2020-12-29\": \"2022-02-01\"]\n",
    "len(df)"
   ]
  },
  {
   "cell_type": "code",
   "execution_count": 68,
   "metadata": {},
   "outputs": [],
   "source": [
    "def linearReg(df, k):\n",
    "    num = 0\n",
    "    denum = 0\n",
    "    means = {}\n",
    "    df.reset_index()\n",
    "    try:\n",
    "        df = df.drop(index=k)\n",
    "    except:\n",
    "        pass\n",
    "\n",
    "    for i in df.columns:\n",
    "        means[i] = df[i].mean()\n",
    "\n",
    "    for i in range(len(df)):\n",
    "        num += (df.iloc[i]['aapl'] - means['aapl'])*(df.iloc[i]['googl'] - means['googl'])\n",
    "\n",
    "        denum += (df.iloc[i]['aapl'] - means['aapl'])**2\n",
    "\n",
    "    coeff = num/denum\n",
    "    intercept = means['googl'] - coeff*means['aapl']\n",
    "    return (intercept, coeff)"
   ]
  },
  {
   "cell_type": "code",
   "execution_count": 69,
   "metadata": {},
   "outputs": [
    {
     "name": "stdout",
     "output_type": "stream",
     "text": [
      "y(googl) = 73.73165527766787 + 15.632846996201012x\n"
     ]
    }
   ],
   "source": [
    "print(f'y(googl) = {intercept} + {coeff}x')"
   ]
  },
  {
   "cell_type": "code",
   "execution_count": 70,
   "metadata": {},
   "outputs": [],
   "source": [
    "def guessval(df_train, df_test, ):\n",
    "    num = 0\n",
    "    denum = 0\n",
    "    r_denum = 0\n",
    "    h_denum = 0\n",
    "    for i in df_train.columns:\n",
    "        means[i] = df_train[i].mean()\n",
    "\n",
    "    for i in range(len(df_train)):\n",
    "        num += (df_train.iloc[i]['aapl'] - means['aapl'])*(df_train.iloc[i]['googl'] - means['googl'])\n",
    "\n",
    "        denum += (df_train.iloc[i]['aapl'] - means['aapl'])**2\n",
    "\n",
    "    coeff = num/denum\n",
    "    intercept = means['googl'] - coeff*means['aapl']\n",
    "    \n",
    "    mse = 0\n",
    "    for i in range(len(df_test)):\n",
    "        guess = intercept + df_test.iloc[i]['aapl']*coeff\n",
    "        \n",
    "        mse += (df_test.iloc[i]['googl']-guess)**2\n",
    "        \n",
    "        r_denum += (df_test.iloc[i]['googl'] - means['googl'])**2\n",
    "        \n",
    "        h_denum += (df_train.iloc[i]['aapl'] - df_train['aapl'].mean())**2\n",
    "        \n",
    "        \n",
    "    \n",
    "    return {\"R2\": 1 - mse/r_denum ,\"RMSE\":(mse/len(df_test))**(1/2), \"h\":h_denum}\n",
    "        "
   ]
  },
  {
   "cell_type": "code",
   "execution_count": 79,
   "metadata": {},
   "outputs": [
    {
     "name": "stdout",
     "output_type": "stream",
     "text": [
      "2020-12-29 : 0.003792864755670605\n",
      "\t -586.974202982819\n",
      "2020-12-30 : 0.0038402133420352277\n",
      "\t -588.8741086188711\n",
      "2020-12-31 : 0.0038875629155817816\n",
      "\t -554.9197236210339\n",
      "2021-01-04 : 0.004069447009006258\n",
      "\t -525.4976312328959\n",
      "2021-01-05 : 0.003974810618731837\n",
      "\t -538.861028066724\n",
      "2021-01-06 : 0.004262922466294293\n",
      "\t -480.8296465993085\n",
      "2021-01-07 : 0.003979833629210907\n",
      "\t -503.0368107394065\n",
      "2021-01-08 : 0.003919335225955055\n",
      "\t -498.816143763996\n",
      "2021-01-11 : 0.0040968044864194055\n",
      "\t -488.0042548568549\n",
      "2021-01-12 : 0.004108495107081427\n",
      "\t -503.79524632946095\n",
      "2021-01-13 : 0.003981516745633024\n",
      "\t -529.6150809755445\n",
      "2021-01-14 : 0.004101332988306447\n",
      "\t -512.1809926486517\n",
      "2021-01-15 : 0.004223045697235739\n",
      "\t -485.2979486974591\n",
      "2021-01-19 : 0.004173958410707472\n",
      "\t -440.2143501562223\n",
      "2021-01-20 : 0.003920357915053807\n",
      "\t -416.2348483807509\n",
      "2021-01-21 : 0.0037243788148728606\n",
      "\t -494.6895378648319\n",
      "2021-01-22 : 0.003669375267701896\n",
      "\t -523.7947590347253\n",
      "2021-01-25 : 0.0036243662502502476\n",
      "\t -587.7277958890227\n",
      "2021-01-26 : 0.0036237202831141944\n",
      "\t -578.1503901308938\n",
      "2021-01-27 : 0.003628762590573533\n",
      "\t -648.4022479434657\n",
      "2021-01-28 : 0.00371792059915831\n",
      "\t -529.39082207502\n",
      "2021-01-29 : 0.0039239472544502305\n",
      "\t -467.7515519928602\n",
      "2021-02-01 : 0.0038222463703417734\n",
      "\t -439.21606553433367\n",
      "2021-02-02 : 0.0037882587791367517\n",
      "\t -427.66073782882313\n",
      "2021-02-03 : 0.0038307059233648284\n",
      "\t -269.9954367743717\n",
      "2021-02-04 : 0.0037094561090038813\n",
      "\t -334.07679771961557\n",
      "2021-02-05 : 0.003721582607308343\n",
      "\t -291.61849414142625\n",
      "2021-02-08 : 0.00371721129982561\n",
      "\t -298.49043846475524\n",
      "2021-02-09 : 0.003744927429677314\n",
      "\t -292.2500374578026\n",
      "2021-02-10 : 0.003766099434209714\n",
      "\t -270.57188791738645\n",
      "2021-02-11 : 0.0037754833722562138\n",
      "\t -263.8614936421136\n",
      "2021-02-12 : 0.0037668112291202355\n",
      "\t -261.68000966212867\n",
      "2021-02-16 : 0.003854918855765884\n",
      "\t -208.78030195146493\n",
      "2021-02-17 : 0.003973392500823839\n",
      "\t -160.7261106652022\n",
      "2021-02-18 : 0.004039035914627878\n",
      "\t -154.23853497381378\n",
      "2021-02-19 : 0.004029399260839073\n",
      "\t -173.97081113869626\n",
      "2021-02-22 : 0.004294188091086967\n",
      "\t -142.42890043414263\n",
      "2021-02-23 : 0.004305006122241232\n",
      "\t -134.17782199625526\n",
      "2021-02-24 : 0.004345145631390472\n",
      "\t -101.77804581552664\n",
      "2021-02-25 : 0.004735154871342629\n",
      "\t -95.17792621824674\n",
      "2021-02-26 : 0.004708565451252893\n",
      "\t -93.82900159845758\n",
      "2021-03-01 : 0.004163498054070724\n",
      "\t -157.59874608828477\n",
      "2021-03-02 : 0.004363623021499572\n",
      "\t -117.18023119807276\n",
      "2021-03-03 : 0.004631673243481296\n",
      "\t -117.99129990982965\n",
      "2021-03-04 : 0.004821990162486132\n",
      "\t -62.51069243424104\n",
      "2021-03-05 : 0.0046929620826051096\n",
      "\t -21.40124358365256\n",
      "2021-03-08 : 0.005241172435296627\n",
      "\t -24.556360913377375\n",
      "2021-03-09 : 0.004725270178040071\n",
      "\t -72.47559740900215\n",
      "2021-03-10 : 0.004837469665352857\n",
      "\t -57.68918114848111\n",
      "2021-03-11 : 0.004641130569761122\n",
      "\t -27.153458587008572\n",
      "2021-03-12 : 0.004731195394726569\n",
      "\t -61.81101196612508\n",
      "148072.30368403243\n"
     ]
    }
   ],
   "source": [
    "## Leave one out cross validation\n",
    "cv = 0\n",
    "stop = None\n",
    "for i in range(len(df)):\n",
    "    hi = 1/len(df)+((df.iloc[i]['aapl'] - df['aapl'].mean())**2)/lol['h']\n",
    "    k = i\n",
    "    intercept, coeff = linearReg(df, k)\n",
    "    hi_list += [hi]\n",
    "    print(f'{df.iloc[i].name} : {hi}')\n",
    "    cv += ((df.iloc[i]['googl']-(intercept+coeff*df.iloc[i]['aapl']))/(1-hi))**2\n",
    "    print('\\t', df.iloc[i]['googl']-(intercept+coeff*df.iloc[i]['aapl']))\n",
    "    \n",
    "    if i == 50:\n",
    "        stop = i\n",
    "        break\n",
    "    \n",
    "print(cv/stop)"
   ]
  },
  {
   "cell_type": "code",
   "execution_count": 6,
   "metadata": {},
   "outputs": [
    {
     "data": {
      "image/png": "[encoded data removed]",
      "text/plain": [
       "<Figure size 432x288 with 1 Axes>"
      ]
     },
     "metadata": {
      "needs_background": "light"
     },
     "output_type": "display_data"
    }
   ],
   "source": [
    "import matplotlib.pyplot as plt\n",
    "import numpy as np\n",
    "\n",
    "# 100 linearly spaced numbers\n",
    "x = np.linspace(20,200,2)\n",
    "\n",
    "# the function, which is y = x^2 here\n",
    "y = 466.7106659837523 + 13.336796260539977*x\n",
    "\n",
    "x_real = np.asarray(df['aapl'])\n",
    "y_real = np.asarray(df['googl'])\n",
    "\n",
    "# setting the axes at the centre\n",
    "fig = plt.figure()\n",
    "ax = fig.add_subplot(1, 1, 1)\n",
    "ax.spines['left'].set_position('center')\n",
    "ax.spines['bottom'].set_position('zero')\n",
    "ax.spines['right'].set_color('none')\n",
    "ax.spines['top'].set_color('none')\n",
    "ax.xaxis.set_ticks_position('bottom')\n",
    "ax.yaxis.set_ticks_position('left')\n",
    "\n",
    "# plot the function\n",
    "plt.scatter(x_real, y_real, s=5)\n",
    "plt.plot(x,y, 'r')\n",
    "\n",
    "\n",
    "# show the plot\n",
    "plt.show()"
   ]
  },
  {
   "cell_type": "code",
   "execution_count": null,
   "metadata": {},
   "outputs": [],
   "source": [
    "for i in range(len())"
   ]
  }
 ],
 "metadata": {
  "kernelspec": {
   "display_name": "Python 3",
   "language": "python",
   "name": "python3"
  },
  "language_info": {
   "codemirror_mode": {
    "name": "ipython",
    "version": 3
   },
   "file_extension": ".py",
   "mimetype": "text/x-python",
   "name": "python",
   "nbconvert_exporter": "python",
   "pygments_lexer": "ipython3",
   "version": "3.8.5"
  }
 },
 "nbformat": 4,
 "nbformat_minor": 4
}
